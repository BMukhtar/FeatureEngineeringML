{
 "cells": [
  {
   "cell_type": "code",
   "execution_count": 10,
   "metadata": {
    "collapsed": true
   },
   "outputs": [
    {
     "name": "stdout",
     "output_type": "stream",
     "text": [
      "(119999, 92)\n"
     ]
    },
    {
     "data": {
      "text/plain": "  Record        X1        X2        X3        X4        X5        X6  \\\n0     R1  49.94357  21.47114  73.07750   8.74861 -17.40628 -13.09905   \n1     R2  48.73215  18.42930  70.32679  12.94636 -10.32437 -24.83777   \n2     R3  50.95714  31.85602       NaN  13.41693  -6.57898 -18.54940   \n3     R4  48.24750  -1.89837  36.29772   2.58776   0.97170 -26.21683   \n4     R5  50.97020  42.20998  67.09964   8.46791 -15.85279 -16.81409   \n\n         X7        X8        X9  ...        X82       X83       X84       X85  \\\n0 -25.01202 -12.23257   7.83089  ...  -54.40548  58.99367  15.37344   1.11144   \n1   8.76630  -0.92019  18.76548  ...  -19.68073  33.04964  42.87836  -9.90378   \n2  -3.27872  -2.35035  16.07017  ...   26.05866 -50.92779  10.93792  -0.07568   \n3   5.05097 -10.34124   3.55005  ... -171.70734 -16.96705 -46.67617 -12.51516   \n4 -12.48207  -9.37636  12.63699  ...  -55.95724  64.92712 -17.72522  -1.49237   \n\n        X86        X87       X88        X89       X90  Response  \n0 -23.08793   68.40795  -1.82223  -27.46348   2.26327      2000  \n1 -32.22788   70.49388  12.04941   58.43453  26.92061      2000  \n2  43.20130 -115.00698  -0.05859   39.67068  -0.66345      2000  \n3  82.58061  -72.08993   9.90558  199.62971  18.85382      2000  \n4  -7.50035   51.76631   7.88713   55.66926  28.74903      2000  \n\n[5 rows x 92 columns]",
      "text/html": "<div>\n<style scoped>\n    .dataframe tbody tr th:only-of-type {\n        vertical-align: middle;\n    }\n\n    .dataframe tbody tr th {\n        vertical-align: top;\n    }\n\n    .dataframe thead th {\n        text-align: right;\n    }\n</style>\n<table border=\"1\" class=\"dataframe\">\n  <thead>\n    <tr style=\"text-align: right;\">\n      <th></th>\n      <th>Record</th>\n      <th>X1</th>\n      <th>X2</th>\n      <th>X3</th>\n      <th>X4</th>\n      <th>X5</th>\n      <th>X6</th>\n      <th>X7</th>\n      <th>X8</th>\n      <th>X9</th>\n      <th>...</th>\n      <th>X82</th>\n      <th>X83</th>\n      <th>X84</th>\n      <th>X85</th>\n      <th>X86</th>\n      <th>X87</th>\n      <th>X88</th>\n      <th>X89</th>\n      <th>X90</th>\n      <th>Response</th>\n    </tr>\n  </thead>\n  <tbody>\n    <tr>\n      <th>0</th>\n      <td>R1</td>\n      <td>49.94357</td>\n      <td>21.47114</td>\n      <td>73.07750</td>\n      <td>8.74861</td>\n      <td>-17.40628</td>\n      <td>-13.09905</td>\n      <td>-25.01202</td>\n      <td>-12.23257</td>\n      <td>7.83089</td>\n      <td>...</td>\n      <td>-54.40548</td>\n      <td>58.99367</td>\n      <td>15.37344</td>\n      <td>1.11144</td>\n      <td>-23.08793</td>\n      <td>68.40795</td>\n      <td>-1.82223</td>\n      <td>-27.46348</td>\n      <td>2.26327</td>\n      <td>2000</td>\n    </tr>\n    <tr>\n      <th>1</th>\n      <td>R2</td>\n      <td>48.73215</td>\n      <td>18.42930</td>\n      <td>70.32679</td>\n      <td>12.94636</td>\n      <td>-10.32437</td>\n      <td>-24.83777</td>\n      <td>8.76630</td>\n      <td>-0.92019</td>\n      <td>18.76548</td>\n      <td>...</td>\n      <td>-19.68073</td>\n      <td>33.04964</td>\n      <td>42.87836</td>\n      <td>-9.90378</td>\n      <td>-32.22788</td>\n      <td>70.49388</td>\n      <td>12.04941</td>\n      <td>58.43453</td>\n      <td>26.92061</td>\n      <td>2000</td>\n    </tr>\n    <tr>\n      <th>2</th>\n      <td>R3</td>\n      <td>50.95714</td>\n      <td>31.85602</td>\n      <td>NaN</td>\n      <td>13.41693</td>\n      <td>-6.57898</td>\n      <td>-18.54940</td>\n      <td>-3.27872</td>\n      <td>-2.35035</td>\n      <td>16.07017</td>\n      <td>...</td>\n      <td>26.05866</td>\n      <td>-50.92779</td>\n      <td>10.93792</td>\n      <td>-0.07568</td>\n      <td>43.20130</td>\n      <td>-115.00698</td>\n      <td>-0.05859</td>\n      <td>39.67068</td>\n      <td>-0.66345</td>\n      <td>2000</td>\n    </tr>\n    <tr>\n      <th>3</th>\n      <td>R4</td>\n      <td>48.24750</td>\n      <td>-1.89837</td>\n      <td>36.29772</td>\n      <td>2.58776</td>\n      <td>0.97170</td>\n      <td>-26.21683</td>\n      <td>5.05097</td>\n      <td>-10.34124</td>\n      <td>3.55005</td>\n      <td>...</td>\n      <td>-171.70734</td>\n      <td>-16.96705</td>\n      <td>-46.67617</td>\n      <td>-12.51516</td>\n      <td>82.58061</td>\n      <td>-72.08993</td>\n      <td>9.90558</td>\n      <td>199.62971</td>\n      <td>18.85382</td>\n      <td>2000</td>\n    </tr>\n    <tr>\n      <th>4</th>\n      <td>R5</td>\n      <td>50.97020</td>\n      <td>42.20998</td>\n      <td>67.09964</td>\n      <td>8.46791</td>\n      <td>-15.85279</td>\n      <td>-16.81409</td>\n      <td>-12.48207</td>\n      <td>-9.37636</td>\n      <td>12.63699</td>\n      <td>...</td>\n      <td>-55.95724</td>\n      <td>64.92712</td>\n      <td>-17.72522</td>\n      <td>-1.49237</td>\n      <td>-7.50035</td>\n      <td>51.76631</td>\n      <td>7.88713</td>\n      <td>55.66926</td>\n      <td>28.74903</td>\n      <td>2000</td>\n    </tr>\n  </tbody>\n</table>\n<p>5 rows × 92 columns</p>\n</div>"
     },
     "execution_count": 10,
     "metadata": {},
     "output_type": "execute_result"
    }
   ],
   "source": [
    "import pandas as pd\n",
    "\n",
    "\"\"\"\n",
    "pip install pandas\n",
    "pip install openpyxl\n",
    "\"\"\"\n",
    "\n",
    "train_df = pd.read_csv('./data/training_data_3.csv')\n",
    "print(train_df.shape)\n",
    "train_df.head()"
   ]
  },
  {
   "cell_type": "code",
   "execution_count": 11,
   "outputs": [
    {
     "name": "stdout",
     "output_type": "stream",
     "text": [
      "(12000, 91)\n"
     ]
    },
    {
     "data": {
      "text/plain": "    Record        X1        X2        X3        X4        X5        X6  \\\n0  R120000  47.75637  12.34954  12.62224  10.10841  10.43459   4.68740   \n1  R120001  47.28407  31.06824   7.97074   1.64200   1.56642   2.42835   \n2  R120002  45.77237  -1.00232 -15.48589   6.48776   1.01942  13.62452   \n3  R120003  39.68352 -40.68292 -74.79350  13.11766 -24.09802   0.17136   \n4  R120004  39.50552 -37.15476 -53.02080  55.43929  -4.56248  28.42086   \n\n         X7        X8        X9  ...       X81        X82        X83  \\\n0  21.55039  -0.46208   3.29969  ...  -0.90004  -30.91314  107.45014   \n1   7.59696  10.22143  17.38849  ...  17.25607  -96.69218  -32.94024   \n2  11.87908   3.27412  -0.94018  ...  16.45389   83.72612  177.63224   \n3   8.07049   2.52639  -2.43812  ...  23.84281 -227.70133  -88.66136   \n4  21.34691  11.31657 -20.98596  ... -21.05362  -10.21396 -315.81442   \n\n         X84       X85        X86        X87       X88        X89       X90  \n0   47.13199   1.71645   60.16289  379.59556   5.75545  143.14330   1.33515  \n1   -3.42177   0.27801 -103.10104  190.18174   0.64649  151.81275   4.37448  \n2  138.53795  30.77563   34.83612  111.37127   3.12863   60.49246  11.07408  \n3  -45.80207 -15.44186  117.49067  -34.06418   3.12706  141.20174  -6.03473  \n4   95.81115  22.15982  127.15694   75.96393  26.62788  233.34489  11.50342  \n\n[5 rows x 91 columns]",
      "text/html": "<div>\n<style scoped>\n    .dataframe tbody tr th:only-of-type {\n        vertical-align: middle;\n    }\n\n    .dataframe tbody tr th {\n        vertical-align: top;\n    }\n\n    .dataframe thead th {\n        text-align: right;\n    }\n</style>\n<table border=\"1\" class=\"dataframe\">\n  <thead>\n    <tr style=\"text-align: right;\">\n      <th></th>\n      <th>Record</th>\n      <th>X1</th>\n      <th>X2</th>\n      <th>X3</th>\n      <th>X4</th>\n      <th>X5</th>\n      <th>X6</th>\n      <th>X7</th>\n      <th>X8</th>\n      <th>X9</th>\n      <th>...</th>\n      <th>X81</th>\n      <th>X82</th>\n      <th>X83</th>\n      <th>X84</th>\n      <th>X85</th>\n      <th>X86</th>\n      <th>X87</th>\n      <th>X88</th>\n      <th>X89</th>\n      <th>X90</th>\n    </tr>\n  </thead>\n  <tbody>\n    <tr>\n      <th>0</th>\n      <td>R120000</td>\n      <td>47.75637</td>\n      <td>12.34954</td>\n      <td>12.62224</td>\n      <td>10.10841</td>\n      <td>10.43459</td>\n      <td>4.68740</td>\n      <td>21.55039</td>\n      <td>-0.46208</td>\n      <td>3.29969</td>\n      <td>...</td>\n      <td>-0.90004</td>\n      <td>-30.91314</td>\n      <td>107.45014</td>\n      <td>47.13199</td>\n      <td>1.71645</td>\n      <td>60.16289</td>\n      <td>379.59556</td>\n      <td>5.75545</td>\n      <td>143.14330</td>\n      <td>1.33515</td>\n    </tr>\n    <tr>\n      <th>1</th>\n      <td>R120001</td>\n      <td>47.28407</td>\n      <td>31.06824</td>\n      <td>7.97074</td>\n      <td>1.64200</td>\n      <td>1.56642</td>\n      <td>2.42835</td>\n      <td>7.59696</td>\n      <td>10.22143</td>\n      <td>17.38849</td>\n      <td>...</td>\n      <td>17.25607</td>\n      <td>-96.69218</td>\n      <td>-32.94024</td>\n      <td>-3.42177</td>\n      <td>0.27801</td>\n      <td>-103.10104</td>\n      <td>190.18174</td>\n      <td>0.64649</td>\n      <td>151.81275</td>\n      <td>4.37448</td>\n    </tr>\n    <tr>\n      <th>2</th>\n      <td>R120002</td>\n      <td>45.77237</td>\n      <td>-1.00232</td>\n      <td>-15.48589</td>\n      <td>6.48776</td>\n      <td>1.01942</td>\n      <td>13.62452</td>\n      <td>11.87908</td>\n      <td>3.27412</td>\n      <td>-0.94018</td>\n      <td>...</td>\n      <td>16.45389</td>\n      <td>83.72612</td>\n      <td>177.63224</td>\n      <td>138.53795</td>\n      <td>30.77563</td>\n      <td>34.83612</td>\n      <td>111.37127</td>\n      <td>3.12863</td>\n      <td>60.49246</td>\n      <td>11.07408</td>\n    </tr>\n    <tr>\n      <th>3</th>\n      <td>R120003</td>\n      <td>39.68352</td>\n      <td>-40.68292</td>\n      <td>-74.79350</td>\n      <td>13.11766</td>\n      <td>-24.09802</td>\n      <td>0.17136</td>\n      <td>8.07049</td>\n      <td>2.52639</td>\n      <td>-2.43812</td>\n      <td>...</td>\n      <td>23.84281</td>\n      <td>-227.70133</td>\n      <td>-88.66136</td>\n      <td>-45.80207</td>\n      <td>-15.44186</td>\n      <td>117.49067</td>\n      <td>-34.06418</td>\n      <td>3.12706</td>\n      <td>141.20174</td>\n      <td>-6.03473</td>\n    </tr>\n    <tr>\n      <th>4</th>\n      <td>R120004</td>\n      <td>39.50552</td>\n      <td>-37.15476</td>\n      <td>-53.02080</td>\n      <td>55.43929</td>\n      <td>-4.56248</td>\n      <td>28.42086</td>\n      <td>21.34691</td>\n      <td>11.31657</td>\n      <td>-20.98596</td>\n      <td>...</td>\n      <td>-21.05362</td>\n      <td>-10.21396</td>\n      <td>-315.81442</td>\n      <td>95.81115</td>\n      <td>22.15982</td>\n      <td>127.15694</td>\n      <td>75.96393</td>\n      <td>26.62788</td>\n      <td>233.34489</td>\n      <td>11.50342</td>\n    </tr>\n  </tbody>\n</table>\n<p>5 rows × 91 columns</p>\n</div>"
     },
     "execution_count": 11,
     "metadata": {},
     "output_type": "execute_result"
    }
   ],
   "source": [
    "test_df = pd.read_excel(\"./data/testing_data_3_predictor_values.xlsx\")\n",
    "print(test_df.shape)\n",
    "test_df.head()"
   ],
   "metadata": {
    "collapsed": false
   }
  },
  {
   "cell_type": "code",
   "execution_count": 12,
   "outputs": [
    {
     "name": "stdout",
     "output_type": "stream",
     "text": [
      "Index(['Record', 'X1', 'X2', 'X3', 'X4', 'X5', 'X6', 'X7', 'X8', 'X9', 'X10',\n",
      "       'X11', 'X12', 'X13', 'X14', 'X15', 'X16', 'X17', 'X18', 'X19', 'X20',\n",
      "       'X21', 'X22', 'X23', 'X24', 'X25', 'X26', 'X27', 'X28', 'X29', 'X30',\n",
      "       'X31', 'X32', 'X33', 'X34', 'X35', 'X36', 'X37', 'X38', 'X39', 'X40',\n",
      "       'X41', 'X42', 'X43', 'X44', 'X45', 'X46', 'X47', 'X48', 'X49', 'X50',\n",
      "       'X51', 'X52', 'X53', 'X54', 'X55', 'X56', 'X57', 'X58', 'X59', 'X60',\n",
      "       'X61', 'X62', 'X63', 'X64', 'X65', 'X66', 'X67', 'X68', 'X69', 'X70',\n",
      "       'X71', 'X72', 'X73', 'X74', 'X75', 'X76', 'X77', 'X78', 'X79', 'X80',\n",
      "       'X81', 'X82', 'X83', 'X84', 'X85', 'X86', 'X87', 'X88', 'X89', 'X90',\n",
      "       'Response'],\n",
      "      dtype='object')\n"
     ]
    }
   ],
   "source": [
    "print(train_df.columns)"
   ],
   "metadata": {
    "collapsed": false
   }
  },
  {
   "cell_type": "code",
   "execution_count": 13,
   "outputs": [
    {
     "data": {
      "text/plain": "Index(['Record', 'X1', 'X2', 'X3', 'X4', 'X5', 'X6', 'X7', 'X8', 'X9', 'X10',\n       'X11', 'X12', 'X13', 'X14', 'X15', 'X16', 'X17', 'X18', 'X19', 'X20',\n       'X21', 'X22', 'X23', 'X24', 'X25', 'X26', 'X27', 'X28', 'X29', 'X30',\n       'X31', 'X32', 'X33', 'X34', 'X35', 'X36', 'X37', 'X38', 'X39', 'X40',\n       'X41', 'X42', 'X43', 'X44', 'X45', 'X46', 'X47', 'X48', 'X49', 'X50',\n       'X51', 'X52', 'X53', 'X54', 'X55', 'X56', 'X57', 'X58', 'X59', 'X60',\n       'X61', 'X62', 'X63', 'X64', 'X65', 'X66', 'X67', 'X68', 'X69', 'X70',\n       'X71', 'X72', 'X73', 'X74', 'X75', 'X76', 'X77', 'X78', 'X79', 'X80',\n       'X81', 'X82', 'X83', 'X84', 'X85', 'X86', 'X87', 'X88', 'X89', 'X90'],\n      dtype='object')"
     },
     "execution_count": 13,
     "metadata": {},
     "output_type": "execute_result"
    }
   ],
   "source": [
    "test_df.columns"
   ],
   "metadata": {
    "collapsed": false
   }
  },
  {
   "cell_type": "code",
   "execution_count": 25,
   "outputs": [
    {
     "data": {
      "text/plain": "(119999, 90)"
     },
     "execution_count": 25,
     "metadata": {},
     "output_type": "execute_result"
    }
   ],
   "source": [
    "X = train_df.iloc[:, 1:-1]\n",
    "y = train_df.iloc[:, -1]\n",
    "# from sklearn.model_selection import train_test_split\n",
    "# X_train, X_test, y_train, y_test = train_test_split(X, y, test_size=0.3, random_state=42)\n",
    "def validate_model(model, X, y):\n",
    "    from sklearn.model_selection import cross_val_score\n",
    "    cross_val_score(model, X, y, cv=5, scoring='accuracy')"
   ],
   "metadata": {
    "collapsed": false
   }
  },
  {
   "cell_type": "code",
   "execution_count": 27,
   "outputs": [
    {
     "name": "stderr",
     "output_type": "stream",
     "text": [
      "/Users/bm/miniforge3/lib/python3.10/site-packages/sklearn/linear_model/_logistic.py:458: ConvergenceWarning: lbfgs failed to converge (status=1):\n",
      "STOP: TOTAL NO. of ITERATIONS REACHED LIMIT.\n",
      "\n",
      "Increase the number of iterations (max_iter) or scale the data as shown in:\n",
      "    https://scikit-learn.org/stable/modules/preprocessing.html\n",
      "Please also refer to the documentation for alternative solver options:\n",
      "    https://scikit-learn.org/stable/modules/linear_model.html#logistic-regression\n",
      "  n_iter_i = _check_optimize_result(\n",
      "/Users/bm/miniforge3/lib/python3.10/site-packages/sklearn/linear_model/_logistic.py:458: ConvergenceWarning: lbfgs failed to converge (status=1):\n",
      "STOP: TOTAL NO. of ITERATIONS REACHED LIMIT.\n",
      "\n",
      "Increase the number of iterations (max_iter) or scale the data as shown in:\n",
      "    https://scikit-learn.org/stable/modules/preprocessing.html\n",
      "Please also refer to the documentation for alternative solver options:\n",
      "    https://scikit-learn.org/stable/modules/linear_model.html#logistic-regression\n",
      "  n_iter_i = _check_optimize_result(\n",
      "/Users/bm/miniforge3/lib/python3.10/site-packages/sklearn/linear_model/_logistic.py:458: ConvergenceWarning: lbfgs failed to converge (status=1):\n",
      "STOP: TOTAL NO. of ITERATIONS REACHED LIMIT.\n",
      "\n",
      "Increase the number of iterations (max_iter) or scale the data as shown in:\n",
      "    https://scikit-learn.org/stable/modules/preprocessing.html\n",
      "Please also refer to the documentation for alternative solver options:\n",
      "    https://scikit-learn.org/stable/modules/linear_model.html#logistic-regression\n",
      "  n_iter_i = _check_optimize_result(\n",
      "/Users/bm/miniforge3/lib/python3.10/site-packages/sklearn/linear_model/_logistic.py:458: ConvergenceWarning: lbfgs failed to converge (status=1):\n",
      "STOP: TOTAL NO. of ITERATIONS REACHED LIMIT.\n",
      "\n",
      "Increase the number of iterations (max_iter) or scale the data as shown in:\n",
      "    https://scikit-learn.org/stable/modules/preprocessing.html\n",
      "Please also refer to the documentation for alternative solver options:\n",
      "    https://scikit-learn.org/stable/modules/linear_model.html#logistic-regression\n",
      "  n_iter_i = _check_optimize_result(\n",
      "/Users/bm/miniforge3/lib/python3.10/site-packages/sklearn/linear_model/_logistic.py:458: ConvergenceWarning: lbfgs failed to converge (status=1):\n",
      "STOP: TOTAL NO. of ITERATIONS REACHED LIMIT.\n",
      "\n",
      "Increase the number of iterations (max_iter) or scale the data as shown in:\n",
      "    https://scikit-learn.org/stable/modules/preprocessing.html\n",
      "Please also refer to the documentation for alternative solver options:\n",
      "    https://scikit-learn.org/stable/modules/linear_model.html#logistic-regression\n",
      "  n_iter_i = _check_optimize_result(\n"
     ]
    },
    {
     "data": {
      "text/plain": "array([0.66916667, 0.67625   , 0.67925   , 0.69245833, 0.68790366])"
     },
     "execution_count": 27,
     "metadata": {},
     "output_type": "execute_result"
    }
   ],
   "source": [
    "\"\"\"\n",
    "Basic LogisticRegression without preprocessing\n",
    "\"\"\"\n",
    "from sklearn.linear_model import LogisticRegression\n",
    "lr = LogisticRegression(random_state=0, max_iter=1000)\n",
    "validate_model(lr, X.fillna(0), y)"
   ],
   "metadata": {
    "collapsed": false
   }
  },
  {
   "cell_type": "code",
   "execution_count": null,
   "outputs": [],
   "source": [],
   "metadata": {
    "collapsed": false
   }
  }
 ],
 "metadata": {
  "kernelspec": {
   "display_name": "Python 3",
   "language": "python",
   "name": "python3"
  },
  "language_info": {
   "codemirror_mode": {
    "name": "ipython",
    "version": 2
   },
   "file_extension": ".py",
   "mimetype": "text/x-python",
   "name": "python",
   "nbconvert_exporter": "python",
   "pygments_lexer": "ipython2",
   "version": "2.7.6"
  }
 },
 "nbformat": 4,
 "nbformat_minor": 0
}
